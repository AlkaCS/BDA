{
  "nbformat": 4,
  "nbformat_minor": 0,
  "metadata": {
    "colab": {
      "provenance": []
    },
    "kernelspec": {
      "name": "python3",
      "display_name": "Python 3"
    },
    "language_info": {
      "name": "python"
    }
  },
  "cells": [
    {
      "cell_type": "code",
      "source": [
        "import pandas as pd\n",
        "\n",
        "# Load the data\n",
        "file_path = 'online_retail.csv',
        "data = pd.read_csv(file_path)\n",
        "\n",
        "print(\"Column names in the dataset:\")\n",
        "print(data.columns)\n",
        "\n",
        "# Clean the data: Strip whitespace from strings\n",
        "data = data.applymap(lambda x: x.strip() if isinstance(x, str) else x)\n",
        "\n",
        "# Convert relevant columns to numeric types\n",
        "data['Quantity'] = pd.to_numeric(data['Quantity'], errors='coerce')\n",
        "data['UnitPrice'] = pd.to_numeric(data['UnitPrice'], errors='coerce')\n",
        "\n",
        "# Calculate revenue for each transaction\n",
        "data['Revenue'] = data['Quantity'] * data['UnitPrice']\n",
        "\n",
        "# Group by 'Country' and calculate total revenue per country\n",
        "country_revenue = data.groupby('Country').agg(\n",
        "    total_revenue=pd.NamedAgg(column='Revenue', aggfunc='sum')\n",
        ").reset_index()\n",
        "\n",
        "# Find the country with the highest revenue\n",
        "highest_revenue_country = country_revenue.loc[country_revenue['total_revenue'].idxmax()]\n",
        "\n",
        "# Output \n",
        "print(\"Total revenue generated per country:\")\n",
        "print(country_revenue)\n",
        "print(\"\\nCountry with the highest revenue:\")\n",
        "print(f\"{highest_revenue_country['Country']} with revenue: {highest_revenue_country['total_revenue']}\")\n",
        "\n"
      ],
      "metadata": {
        "colab": {
          "base_uri": "https://localhost:8080/"
        },
        "id": "XIhLoluoGyE7",
        "outputId": "e56e2ef6-43dc-4497-c607-27a77e78251b"
      },
      "execution_count": 2,
      "outputs": [
        {
          "output_type": "stream",
          "name": "stdout",
          "text": [
            "Column names in the dataset:\n",
            "Index(['InvoiceNo', 'StockCode', 'Description', 'Quantity', 'InvoiceDate',\n",
            "       'UnitPrice', 'CustomerID', 'Country'],\n",
            "      dtype='object')\n"
          ]
        },
        {
          "output_type": "stream",
          "name": "stderr",
          "text": [
            "<ipython-input-2-7bfd7ded5777>:12: FutureWarning: DataFrame.applymap has been deprecated. Use DataFrame.map instead.\n",
            "  data = data.applymap(lambda x: x.strip() if isinstance(x, str) else x)\n"
          ]
        },
        {
          "output_type": "stream",
          "name": "stdout",
          "text": [
            "Total revenue generated per country:\n",
            "                 Country  total_revenue\n",
            "0              Australia     137077.270\n",
            "1                Austria      10154.320\n",
            "2                Bahrain        548.400\n",
            "3                Belgium      40910.960\n",
            "4                 Brazil       1143.600\n",
            "5                 Canada       3666.380\n",
            "6        Channel Islands      20086.290\n",
            "7                 Cyprus      12946.290\n",
            "8         Czech Republic        707.720\n",
            "9                Denmark      18768.140\n",
            "10                  EIRE     263276.820\n",
            "11    European Community       1291.750\n",
            "12               Finland      22326.740\n",
            "13                France     197403.900\n",
            "14               Germany     221698.210\n",
            "15                Greece       4710.520\n",
            "16             Hong Kong      10117.040\n",
            "17               Iceland       4310.000\n",
            "18                Israel       7907.820\n",
            "19                 Italy      16890.510\n",
            "20                 Japan      35340.620\n",
            "21               Lebanon       1693.880\n",
            "22             Lithuania       1661.060\n",
            "23                 Malta       2505.470\n",
            "24           Netherlands     284661.540\n",
            "25                Norway      35163.460\n",
            "26                Poland       7213.140\n",
            "27              Portugal      29367.020\n",
            "28                   RSA       1002.310\n",
            "29          Saudi Arabia        131.170\n",
            "30             Singapore       9120.390\n",
            "31                 Spain      54774.580\n",
            "32                Sweden      36595.910\n",
            "33           Switzerland      56385.350\n",
            "34                   USA       1730.920\n",
            "35  United Arab Emirates       1902.280\n",
            "36        United Kingdom    8187806.364\n",
            "37           Unspecified       4749.790\n",
            "\n",
            "Country with the highest revenue:\n",
            "United Kingdom with revenue: 8187806.364\n"
          ]
        }
      ]
    }
  ]
}
